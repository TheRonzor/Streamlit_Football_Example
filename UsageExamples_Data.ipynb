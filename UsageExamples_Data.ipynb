{
 "cells": [
  {
   "cell_type": "markdown",
   "id": "431c617d-0607-4812-9e50-e4f6fc158740",
   "metadata": {},
   "source": [
    "### Examples of code that would be used by the developor, but not a user"
   ]
  },
  {
   "cell_type": "code",
   "execution_count": 17,
   "id": "27fdbe76-527b-4d00-bf5d-023298a1974d",
   "metadata": {},
   "outputs": [],
   "source": [
    "from src.data_generator import make_new_game_data as mgd\n",
    "from src.football_db import FootballDB as FDB"
   ]
  },
  {
   "cell_type": "code",
   "execution_count": 18,
   "id": "f7a82308-b042-4b43-84b4-0b24d4e47fa7",
   "metadata": {},
   "outputs": [
    {
     "name": "stdout",
     "output_type": "stream",
     "text": [
      "Generating new game data and saving as: ./data/unloaded/GAME_4852540234646702969.csv\n",
      "Generating new game data and saving as: ./data/unloaded/GAME_8064959052822716654.csv\n",
      "Generating new game data and saving as: ./data/unloaded/GAME_4496407218138913011.csv\n"
     ]
    }
   ],
   "source": [
    "# Every time you run this function it'll make a new random dataset\n",
    "# and put it in the data/unloaded directory\n",
    "\n",
    "# Three new datasets\n",
    "for _ in range(3):\n",
    "    mgd()"
   ]
  },
  {
   "cell_type": "code",
   "execution_count": 19,
   "id": "179f0450-7846-47ad-9c4c-23f2ce3e5b2f",
   "metadata": {},
   "outputs": [],
   "source": [
    "# Instantiate a class to handle the database\n",
    "fdb = FDB()"
   ]
  },
  {
   "cell_type": "code",
   "execution_count": 20,
   "id": "5563b536-408d-4781-871d-396255cc1ffb",
   "metadata": {},
   "outputs": [
    {
     "name": "stdin",
     "output_type": "stream",
     "text": [
      "Are you really sure you want to drop all tables and rebuild? Enter y if so. y\n"
     ]
    },
    {
     "name": "stdout",
     "output_type": "stream",
     "text": [
      "Building the tables\n"
     ]
    }
   ],
   "source": [
    "# Only if the database doesn't exist yet!\n",
    "# If some data is already loaded, comment this out,\n",
    "# then run mgd() again, then call load_new_data() again\n",
    "\n",
    "fdb.build_tables(are_you_sure=True)"
   ]
  },
  {
   "cell_type": "code",
   "execution_count": 21,
   "id": "760c5619-86a8-4be4-992b-f2bac40fa68b",
   "metadata": {},
   "outputs": [
    {
     "name": "stdout",
     "output_type": "stream",
     "text": [
      "Loading a file: ./data/unloaded/GAME_4496407218138913011.csv\n",
      "Loading a file: ./data/unloaded/GAME_8064959052822716654.csv\n",
      "Loading a file: ./data/unloaded/GAME_4852540234646702969.csv\n"
     ]
    }
   ],
   "source": [
    "# Load any new data that needs to be loaded\n",
    "# It'll get moved to the data/loaded directory once loaded\n",
    "fdb.load_new_data()"
   ]
  },
  {
   "cell_type": "code",
   "execution_count": 22,
   "id": "9ff8cb4c-844b-4d87-92ae-07e73d5eaef7",
   "metadata": {},
   "outputs": [
    {
     "data": {
      "text/html": [
       "<div>\n",
       "<style scoped>\n",
       "    .dataframe tbody tr th:only-of-type {\n",
       "        vertical-align: middle;\n",
       "    }\n",
       "\n",
       "    .dataframe tbody tr th {\n",
       "        vertical-align: top;\n",
       "    }\n",
       "\n",
       "    .dataframe thead th {\n",
       "        text-align: right;\n",
       "    }\n",
       "</style>\n",
       "<table border=\"1\" class=\"dataframe\">\n",
       "  <thead>\n",
       "    <tr style=\"text-align: right;\">\n",
       "      <th></th>\n",
       "      <th>type</th>\n",
       "      <th>name</th>\n",
       "      <th>tbl_name</th>\n",
       "      <th>rootpage</th>\n",
       "      <th>sql</th>\n",
       "    </tr>\n",
       "  </thead>\n",
       "  <tbody>\n",
       "    <tr>\n",
       "      <th>0</th>\n",
       "      <td>table</td>\n",
       "      <td>tGameData</td>\n",
       "      <td>tGameData</td>\n",
       "      <td>2</td>\n",
       "      <td>CREATE TABLE tGameData (\\n                game...</td>\n",
       "    </tr>\n",
       "    <tr>\n",
       "      <th>1</th>\n",
       "      <td>index</td>\n",
       "      <td>sqlite_autoindex_tGameData_1</td>\n",
       "      <td>tGameData</td>\n",
       "      <td>3</td>\n",
       "      <td>None</td>\n",
       "    </tr>\n",
       "  </tbody>\n",
       "</table>\n",
       "</div>"
      ],
      "text/plain": [
       "    type                          name   tbl_name  rootpage  \\\n",
       "0  table                     tGameData  tGameData         2   \n",
       "1  index  sqlite_autoindex_tGameData_1  tGameData         3   \n",
       "\n",
       "                                                 sql  \n",
       "0  CREATE TABLE tGameData (\\n                game...  \n",
       "1                                               None  "
      ]
     },
     "execution_count": 22,
     "metadata": {},
     "output_type": "execute_result"
    }
   ],
   "source": [
    "# See if we can run a query\n",
    "fdb.run_query(\"SELECT * FROM sqlite_master;\")"
   ]
  },
  {
   "cell_type": "code",
   "execution_count": 23,
   "id": "98a3dd4f-bb77-4cbd-91dd-7b37f0ffb0b4",
   "metadata": {},
   "outputs": [
    {
     "data": {
      "text/plain": [
       "[4496407218138913011, 4852540234646702969, 8064959052822716654]"
      ]
     },
     "execution_count": 23,
     "metadata": {},
     "output_type": "execute_result"
    }
   ],
   "source": [
    "# Game IDs\n",
    "fdb.get_games()"
   ]
  },
  {
   "cell_type": "code",
   "execution_count": 24,
   "id": "f2d24e1a-83f5-47c3-af6e-330fa90118d1",
   "metadata": {},
   "outputs": [
    {
     "data": {
      "text/html": [
       "<div>\n",
       "<style scoped>\n",
       "    .dataframe tbody tr th:only-of-type {\n",
       "        vertical-align: middle;\n",
       "    }\n",
       "\n",
       "    .dataframe tbody tr th {\n",
       "        vertical-align: top;\n",
       "    }\n",
       "\n",
       "    .dataframe thead th {\n",
       "        text-align: right;\n",
       "    }\n",
       "</style>\n",
       "<table border=\"1\" class=\"dataframe\">\n",
       "  <thead>\n",
       "    <tr style=\"text-align: right;\">\n",
       "      <th></th>\n",
       "      <th>player_id</th>\n",
       "    </tr>\n",
       "  </thead>\n",
       "  <tbody>\n",
       "    <tr>\n",
       "      <th>0</th>\n",
       "      <td>1</td>\n",
       "    </tr>\n",
       "    <tr>\n",
       "      <th>1</th>\n",
       "      <td>2</td>\n",
       "    </tr>\n",
       "    <tr>\n",
       "      <th>2</th>\n",
       "      <td>3</td>\n",
       "    </tr>\n",
       "    <tr>\n",
       "      <th>3</th>\n",
       "      <td>4</td>\n",
       "    </tr>\n",
       "    <tr>\n",
       "      <th>4</th>\n",
       "      <td>5</td>\n",
       "    </tr>\n",
       "    <tr>\n",
       "      <th>5</th>\n",
       "      <td>6</td>\n",
       "    </tr>\n",
       "    <tr>\n",
       "      <th>6</th>\n",
       "      <td>7</td>\n",
       "    </tr>\n",
       "    <tr>\n",
       "      <th>7</th>\n",
       "      <td>8</td>\n",
       "    </tr>\n",
       "    <tr>\n",
       "      <th>8</th>\n",
       "      <td>9</td>\n",
       "    </tr>\n",
       "    <tr>\n",
       "      <th>9</th>\n",
       "      <td>10</td>\n",
       "    </tr>\n",
       "    <tr>\n",
       "      <th>10</th>\n",
       "      <td>13</td>\n",
       "    </tr>\n",
       "    <tr>\n",
       "      <th>11</th>\n",
       "      <td>20</td>\n",
       "    </tr>\n",
       "    <tr>\n",
       "      <th>12</th>\n",
       "      <td>21</td>\n",
       "    </tr>\n",
       "    <tr>\n",
       "      <th>13</th>\n",
       "      <td>22</td>\n",
       "    </tr>\n",
       "    <tr>\n",
       "      <th>14</th>\n",
       "      <td>23</td>\n",
       "    </tr>\n",
       "    <tr>\n",
       "      <th>15</th>\n",
       "      <td>24</td>\n",
       "    </tr>\n",
       "    <tr>\n",
       "      <th>16</th>\n",
       "      <td>25</td>\n",
       "    </tr>\n",
       "    <tr>\n",
       "      <th>17</th>\n",
       "      <td>26</td>\n",
       "    </tr>\n",
       "    <tr>\n",
       "      <th>18</th>\n",
       "      <td>27</td>\n",
       "    </tr>\n",
       "    <tr>\n",
       "      <th>19</th>\n",
       "      <td>28</td>\n",
       "    </tr>\n",
       "    <tr>\n",
       "      <th>20</th>\n",
       "      <td>29</td>\n",
       "    </tr>\n",
       "    <tr>\n",
       "      <th>21</th>\n",
       "      <td>30</td>\n",
       "    </tr>\n",
       "  </tbody>\n",
       "</table>\n",
       "</div>"
      ],
      "text/plain": [
       "    player_id\n",
       "0           1\n",
       "1           2\n",
       "2           3\n",
       "3           4\n",
       "4           5\n",
       "5           6\n",
       "6           7\n",
       "7           8\n",
       "8           9\n",
       "9          10\n",
       "10         13\n",
       "11         20\n",
       "12         21\n",
       "13         22\n",
       "14         23\n",
       "15         24\n",
       "16         25\n",
       "17         26\n",
       "18         27\n",
       "19         28\n",
       "20         29\n",
       "21         30"
      ]
     },
     "execution_count": 24,
     "metadata": {},
     "output_type": "execute_result"
    }
   ],
   "source": [
    "# Player ids\n",
    "fdb.run_query(\"SELECT DISTINCT player_id FROM tGameData;\")"
   ]
  },
  {
   "cell_type": "code",
   "execution_count": null,
   "id": "a161b19d-bfc7-4f0e-b6a1-c86dff7481b3",
   "metadata": {},
   "outputs": [],
   "source": []
  },
  {
   "cell_type": "code",
   "execution_count": null,
   "id": "922ff44a-1734-4526-8b1f-396262e28ba6",
   "metadata": {},
   "outputs": [],
   "source": []
  }
 ],
 "metadata": {
  "kernelspec": {
   "display_name": "Python 3 (ipykernel)",
   "language": "python",
   "name": "python3"
  },
  "language_info": {
   "codemirror_mode": {
    "name": "ipython",
    "version": 3
   },
   "file_extension": ".py",
   "mimetype": "text/x-python",
   "name": "python",
   "nbconvert_exporter": "python",
   "pygments_lexer": "ipython3",
   "version": "3.10.10"
  }
 },
 "nbformat": 4,
 "nbformat_minor": 5
}
